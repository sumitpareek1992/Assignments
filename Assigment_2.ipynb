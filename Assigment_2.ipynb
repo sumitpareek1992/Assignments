{
 "cells": [
  {
   "cell_type": "raw",
   "id": "8de44481",
   "metadata": {},
   "source": [
    "1.What are the two values of the Boolean data type? How do you write them?\n",
    "\n",
    "Ans: We have two values of Boolean data types that is True and False. We can also define then as 1 and 0 or 1==1 and 1!=1 all have same value that is True and False"
   ]
  },
  {
   "cell_type": "raw",
   "id": "6200caa9",
   "metadata": {},
   "source": [
    "2.What are the three different types of Boolean operators?\n",
    "\n",
    "Ans: We have three types of Boolean operator that is and, or , not."
   ]
  },
  {
   "cell_type": "raw",
   "id": "8d8ff72d",
   "metadata": {},
   "source": [
    "3. Make a list of each Boolean operator's truth tables (i.e. every possible combination of Boolean values for the operator and what it evaluate ).\n",
    "\n",
    "Ans: Truth table for and, or\n",
    "Value1, value2, and,  or\n",
    "True,   True,   True, True \n",
    "True,   False,  False, True\n",
    "False,  True,   False, True\n",
    "False,  False,  False, False\n",
    "\n",
    "In case for not it will produce negetive of it's value i.e if we give not True then it's value is False same if we give not False then it's value is True"
   ]
  },
  {
   "cell_type": "raw",
   "id": "1e128dbf",
   "metadata": {},
   "source": [
    "4. What are the values of the following expressions?\n",
    "Ans: \n",
    "(5>4) and (3 == 5) = False\n",
    "not (5 > 4) = False\n",
    "(5 > 4) or (3 == 5) = True\n",
    "not ((5 > 4) or (3 == 5)) = False\n",
    "(True and True) and (True == False) = False\n",
    "(not False) or (not True) = True"
   ]
  },
  {
   "cell_type": "raw",
   "id": "8f516746",
   "metadata": {},
   "source": [
    "5.What are the six comparison operators?\n",
    "Ans: a) Greater than: x > y   if x is greater than y than it gives True else False\n",
    "b) Less than: x < y   if y is greater than x than it gives True else False\n",
    "c) Equal to: x == y   if x is equal to y than it gives True else False\n",
    "d) Not equal to x != y if x is not equal to y than it gives True else False\n",
    "e) Greater than or equal to  x >= y if x is greater than or equal to y than it gives True else False\n",
    "f0 Less than or equal to  x <= y if x is less than or equal to y than it gives True else False"
   ]
  },
  {
   "cell_type": "raw",
   "id": "36e03e88",
   "metadata": {},
   "source": [
    "6. How do you tell the difference between the equal to and assignment operators?Describe a\n",
    "condition and when you would use one.\n",
    "Ans: For equal to we use \"==\"(i.e. comparing two values) and for assign any value to variable we use \"=\"(i.e assigning value to variable)\n",
    "For example if I said a = 10 that mean we have aviable which have interger value 10 if we print a then it will give 10\n",
    "if I said a == 10 that mean it comparing a equal to 10 or not if a equal to 10 then it will give True else False"
   ]
  },
  {
   "cell_type": "code",
   "execution_count": 6,
   "id": "9fdfacbd",
   "metadata": {},
   "outputs": [
    {
     "name": "stdout",
     "output_type": "stream",
     "text": [
      "spam\n",
      "spam\n"
     ]
    }
   ],
   "source": [
    "# 7. Identify the three blocks in this code:\n",
    "# Ans:\n",
    "spam = 0\n",
    "if spam == 10:\n",
    "    print(\"eggs\")\n",
    "    if spam > 5:\n",
    "        print(\"becon\")\n",
    "    else:\n",
    "        print(\"ham\")\n",
    "print(\"spam\")\n",
    "print(\"spam\")\n",
    "#here we have have first if block which is if spam == 10 then second is if spam > 5 and third one is else block"
   ]
  },
  {
   "cell_type": "raw",
   "id": "114f8bf4",
   "metadata": {},
   "source": [
    "8. Write code that prints Hello if 1 is stored in spam, prints Howdy if 2 is stored in spam, and prints\n",
    "Greetings! if anything else is stored in spam.\n",
    "Ans: Check next cell"
   ]
  },
  {
   "cell_type": "code",
   "execution_count": 9,
   "id": "09e9db58",
   "metadata": {},
   "outputs": [
    {
     "name": "stdout",
     "output_type": "stream",
     "text": [
      "Enter value of spam in numbers3\n",
      "Greetings!\n"
     ]
    }
   ],
   "source": [
    "spam = int(input(\"Enter value of spam in numbers\"))\n",
    "if spam == 1:\n",
    "    print(\"Hello\")\n",
    "elif spam == 2:\n",
    "    print(\"Howdy\")\n",
    "else:\n",
    "    print(\"Greetings!\")"
   ]
  },
  {
   "cell_type": "raw",
   "id": "5362b612",
   "metadata": {},
   "source": [
    "9.If your programme is stuck in an endless loop, what keys you’ll press?\n",
    "Ans: That time press CTRL+C"
   ]
  },
  {
   "cell_type": "raw",
   "id": "0514f272",
   "metadata": {},
   "source": [
    "10. How can you tell the difference between break and continue?\n",
    "Ans: If you working inside any loop that time suppose you want to come out from loop you use break and if you want to skip next all lines of program inside loop you use continue that time you pointer go at starting of loop without exacuting remaing lines after continue"
   ]
  },
  {
   "cell_type": "raw",
   "id": "d7e285b8",
   "metadata": {},
   "source": [
    "11. In a for loop, what is the difference between range(10), range(0, 10), and range(0, 10, 1)?\n",
    "Ans: range(10) mean you want to iterate list from [0,1,2,3,4,5,6,7,8,9] and range(0,10) also indicate you want to iterate from [0,1,2,3,4,5,6,7,8,9] but here this one 0 indicate starting value of list that mean if i give range(6,10) that mean i want to iterate from [6,7,8,9] third one also same that mean it also want to iterate [0,1,2,3,4,5,6,7,8,9] but last value indicate interval that mean if I give range(0,10,2) then it will skip first value and user second value [0,2,4,6,8]"
   ]
  },
  {
   "cell_type": "raw",
   "id": "e1b65def",
   "metadata": {},
   "source": [
    "12. Write a short program that prints the numbers 1 to 10 using a for loop. Then write an equivalent\n",
    "program that prints the numbers 1 to 10 using a while loop.\n",
    "Ans: Check next cell"
   ]
  },
  {
   "cell_type": "code",
   "execution_count": 28,
   "id": "7570e016",
   "metadata": {},
   "outputs": [
    {
     "name": "stdout",
     "output_type": "stream",
     "text": [
      "1 2 3 4 5 6 7 8 9 10 \n",
      "1 2 3 4 5 6 7 8 9 10 "
     ]
    }
   ],
   "source": [
    "# 1) print numbers 1 to 10 user for loop\n",
    "for i in range(1,11):\n",
    "    print(i,end=\" \")\n",
    "print(\"\") \n",
    "# 2) print numbers 1 to 10 user  while loop\n",
    "i = 1\n",
    "while i < 11 :\n",
    "    print(i,end=\" \")\n",
    "    i += 1"
   ]
  },
  {
   "cell_type": "raw",
   "id": "92b0e5d0",
   "metadata": {},
   "source": [
    "13. If you had a function named bacon() inside a module named spam, how would you call it after\n",
    "importing spam?\n",
    "Ans: We have many ways to call this "
   ]
  }
 ],
 "metadata": {
  "kernelspec": {
   "display_name": "Python 3",
   "language": "python",
   "name": "python3"
  },
  "language_info": {
   "codemirror_mode": {
    "name": "ipython",
    "version": 3
   },
   "file_extension": ".py",
   "mimetype": "text/x-python",
   "name": "python",
   "nbconvert_exporter": "python",
   "pygments_lexer": "ipython3",
   "version": "3.6.9"
  }
 },
 "nbformat": 4,
 "nbformat_minor": 5
}
