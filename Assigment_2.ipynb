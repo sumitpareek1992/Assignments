{
 "cells": [
  {
   "cell_type": "raw",
   "id": "3827a50e",
   "metadata": {},
   "source": []
  },
  {
   "cell_type": "code",
   "execution_count": 2,
   "id": "c235191b",
   "metadata": {},
   "outputs": [
    {
     "data": {
      "text/plain": [
       "'1.What are the two values of the Boolean data type? How do you write them?\\n\\nAns: We have two values of Boolean data types that is True and False. We can also define then as 1 and 0 or 1==1 and 1!=1 all have same value that is True and False'"
      ]
     },
     "execution_count": 2,
     "metadata": {},
     "output_type": "execute_result"
    }
   ],
   "source": [
    "\"\"\"1.What are the two values of the Boolean data type? How do you write them?\n",
    "\n",
    "Ans: We have two values of Boolean data types that is True and False. We can also define then as 1 and 0 or 1==1 and 1!=1 all have same value that is True and False\"\"\""
   ]
  },
  {
   "cell_type": "code",
   "execution_count": 3,
   "id": "6ce15b63",
   "metadata": {},
   "outputs": [
    {
     "data": {
      "text/plain": [
       "'2.What are the three different types of Boolean operators?\\n\\nAns: We have three types of Boolean operator that is and, or , not.'"
      ]
     },
     "execution_count": 3,
     "metadata": {},
     "output_type": "execute_result"
    }
   ],
   "source": [
    "\"\"\"2.What are the three different types of Boolean operators?\n",
    "\n",
    "Ans: We have three types of Boolean operator that is and, or , not.\"\"\""
   ]
  },
  {
   "cell_type": "code",
   "execution_count": 4,
   "id": "5f5a2a99",
   "metadata": {},
   "outputs": [
    {
     "data": {
      "text/plain": [
       "\"3. Make a list of each Boolean operator's truth tables (i.e. every possible combination of Boolean values for the operator and what it evaluate ).\\n\\nAns: Truth table for and, or\\nValue1, value2, and,  or\\nTrue,   True,   True, True \\nTrue,   False,  False, True\\nFalse,  True,   False, True\\nFalse,  False,  False, False\\n\\nIn case for not it will produce negetive of it's value i.e if we give not True then it's value is False same if we give not False then it's value is True\""
      ]
     },
     "execution_count": 4,
     "metadata": {},
     "output_type": "execute_result"
    }
   ],
   "source": [
    "\"\"\"3. Make a list of each Boolean operator's truth tables (i.e. every possible combination of Boolean values for the operator and what it evaluate ).\n",
    "\n",
    "Ans: Truth table for and, or\n",
    "Value1, value2, and,  or\n",
    "True,   True,   True, True \n",
    "True,   False,  False, True\n",
    "False,  True,   False, True\n",
    "False,  False,  False, False\n",
    "\n",
    "In case for not it will produce negetive of it's value i.e if we give not True then it's value is False same if we give not False then it's value is True\"\"\""
   ]
  },
  {
   "cell_type": "code",
   "execution_count": 5,
   "id": "291bc426",
   "metadata": {},
   "outputs": [
    {
     "data": {
      "text/plain": [
       "'4. What are the values of the following expressions?\\nAns: \\n(5>4) and (3 == 5) = False\\nnot (5 > 4) = False\\n(5 > 4) or (3 == 5) = True\\nnot ((5 > 4) or (3 == 5)) = False\\n(True and True) and (True == False) = False\\n(not False) or (not True) = True'"
      ]
     },
     "execution_count": 5,
     "metadata": {},
     "output_type": "execute_result"
    }
   ],
   "source": [
    "\"\"\"4. What are the values of the following expressions?\n",
    "Ans: \n",
    "(5>4) and (3 == 5) = False\n",
    "not (5 > 4) = False\n",
    "(5 > 4) or (3 == 5) = True\n",
    "not ((5 > 4) or (3 == 5)) = False\n",
    "(True and True) and (True == False) = False\n",
    "(not False) or (not True) = True\"\"\""
   ]
  },
  {
   "cell_type": "code",
   "execution_count": 6,
   "id": "76f5064a",
   "metadata": {},
   "outputs": [
    {
     "data": {
      "text/plain": [
       "'5.What are the six comparison operators?\\nAns: a) Greater than: x > y   if x is greater than y than it gives True else False\\nb) Less than: x < y   if y is greater than x than it gives True else False\\nc) Equal to: x == y   if x is equal to y than it gives True else False\\nd) Not equal to x != y if x is not equal to y than it gives True else False\\ne) Greater than or equal to  x >= y if x is greater than or equal to y than it gives True else False\\nf0 Less than or equal to  x <= y if x is less than or equal to y than it gives True else False'"
      ]
     },
     "execution_count": 6,
     "metadata": {},
     "output_type": "execute_result"
    }
   ],
   "source": [
    "\"\"\"5.What are the six comparison operators?\n",
    "Ans: a) Greater than: x > y   if x is greater than y than it gives True else False\n",
    "b) Less than: x < y   if y is greater than x than it gives True else False\n",
    "c) Equal to: x == y   if x is equal to y than it gives True else False\n",
    "d) Not equal to x != y if x is not equal to y than it gives True else False\n",
    "e) Greater than or equal to  x >= y if x is greater than or equal to y than it gives True else False\n",
    "f0 Less than or equal to  x <= y if x is less than or equal to y than it gives True else False\"\"\""
   ]
  },
  {
   "cell_type": "raw",
   "id": "fcae15ce",
   "metadata": {},
   "source": [
    "6. How do you tell the difference between the equal to and assignment operators?Describe a\n",
    "condition and when you would use one.\n",
    "Ans: For equal to we use \"==\"(i.e. comparing two values) and for assign any value to variable we use \"=\"(i.e assigning value to variable)\n",
    "For example if I said a = 10 that mean we have aviable which have interger value 10 if we print a then it will give 10\n",
    "if I said a == 10 that mean it comparing a equal to 10 or not if a equal to 10 then it will give True else False"
   ]
  },
  {
   "cell_type": "code",
   "execution_count": 7,
   "id": "a12a5e47",
   "metadata": {},
   "outputs": [
    {
     "data": {
      "text/plain": [
       "'# 7. Identify the three blocks in this code:\\n# Ans:\\nspam = 0\\nif spam == 10:\\n    print(\"eggs\")\\n    if spam > 5:\\n        print(\"becon\")\\n    else:\\n        print(\"ham\")\\nprint(\"spam\")\\nprint(\"spam\")\\n#here we have have first if block which is if spam == 10 then second is if spam > 5 and third one is else block'"
      ]
     },
     "execution_count": 7,
     "metadata": {},
     "output_type": "execute_result"
    }
   ],
   "source": [
    "\"\"\"# 7. Identify the three blocks in this code:\n",
    "# Ans:\n",
    "spam = 0\n",
    "if spam == 10:\n",
    "    print(\"eggs\")\n",
    "    if spam > 5:\n",
    "        print(\"becon\")\n",
    "    else:\n",
    "        print(\"ham\")\n",
    "print(\"spam\")\n",
    "print(\"spam\")\n",
    "#here we have have first if block which is if spam == 10 then second is if spam > 5 and third one is else block\"\"\""
   ]
  },
  {
   "cell_type": "code",
   "execution_count": 8,
   "id": "6e6a68d0",
   "metadata": {},
   "outputs": [
    {
     "data": {
      "text/plain": [
       "'8. Write code that prints Hello if 1 is stored in spam, prints Howdy if 2 is stored in spam, and prints\\nGreetings! if anything else is stored in spam.\\nAns: Check next cell'"
      ]
     },
     "execution_count": 8,
     "metadata": {},
     "output_type": "execute_result"
    }
   ],
   "source": [
    "\"\"\"8. Write code that prints Hello if 1 is stored in spam, prints Howdy if 2 is stored in spam, and prints\n",
    "Greetings! if anything else is stored in spam.\n",
    "Ans: Check next cell\"\"\""
   ]
  },
  {
   "cell_type": "code",
   "execution_count": 9,
   "id": "f36f68d1",
   "metadata": {
    "scrolled": true
   },
   "outputs": [
    {
     "name": "stdout",
     "output_type": "stream",
     "text": [
      "Enter value of spam in numbers\n"
     ]
    },
    {
     "ename": "ValueError",
     "evalue": "invalid literal for int() with base 10: ''",
     "output_type": "error",
     "traceback": [
      "\u001b[0;31m---------------------------------------------------------------------------\u001b[0m",
      "\u001b[0;31mValueError\u001b[0m                                Traceback (most recent call last)",
      "\u001b[0;32m<ipython-input-9-9905184a4dda>\u001b[0m in \u001b[0;36m<module>\u001b[0;34m\u001b[0m\n\u001b[0;32m----> 1\u001b[0;31m \u001b[0mspam\u001b[0m \u001b[0;34m=\u001b[0m \u001b[0mint\u001b[0m\u001b[0;34m(\u001b[0m\u001b[0minput\u001b[0m\u001b[0;34m(\u001b[0m\u001b[0;34m\"Enter value of spam in numbers\"\u001b[0m\u001b[0;34m)\u001b[0m\u001b[0;34m)\u001b[0m\u001b[0;34m\u001b[0m\u001b[0;34m\u001b[0m\u001b[0m\n\u001b[0m\u001b[1;32m      2\u001b[0m \u001b[0;32mif\u001b[0m \u001b[0mspam\u001b[0m \u001b[0;34m==\u001b[0m \u001b[0;36m1\u001b[0m\u001b[0;34m:\u001b[0m\u001b[0;34m\u001b[0m\u001b[0;34m\u001b[0m\u001b[0m\n\u001b[1;32m      3\u001b[0m     \u001b[0mprint\u001b[0m\u001b[0;34m(\u001b[0m\u001b[0;34m\"Hello\"\u001b[0m\u001b[0;34m)\u001b[0m\u001b[0;34m\u001b[0m\u001b[0;34m\u001b[0m\u001b[0m\n\u001b[1;32m      4\u001b[0m \u001b[0;32melif\u001b[0m \u001b[0mspam\u001b[0m \u001b[0;34m==\u001b[0m \u001b[0;36m2\u001b[0m\u001b[0;34m:\u001b[0m\u001b[0;34m\u001b[0m\u001b[0;34m\u001b[0m\u001b[0m\n\u001b[1;32m      5\u001b[0m     \u001b[0mprint\u001b[0m\u001b[0;34m(\u001b[0m\u001b[0;34m\"Howdy\"\u001b[0m\u001b[0;34m)\u001b[0m\u001b[0;34m\u001b[0m\u001b[0;34m\u001b[0m\u001b[0m\n",
      "\u001b[0;31mValueError\u001b[0m: invalid literal for int() with base 10: ''"
     ]
    }
   ],
   "source": [
    "spam = int(input(\"Enter value of spam in numbers\"))\n",
    "if spam == 1:\n",
    "    print(\"Hello\")\n",
    "elif spam == 2:\n",
    "    print(\"Howdy\")\n",
    "else:\n",
    "    print(\"Greetings!\")"
   ]
  },
  {
   "cell_type": "code",
   "execution_count": null,
   "id": "6982af9b",
   "metadata": {},
   "outputs": [],
   "source": [
    "\"\"\"9.If your programme is stuck in an endless loop, what keys you’ll press?\n",
    "Ans: That time press CTRL+C\"\"\""
   ]
  },
  {
   "cell_type": "code",
   "execution_count": null,
   "id": "4433e781",
   "metadata": {},
   "outputs": [],
   "source": [
    "\"\"\"10. How can you tell the difference between break and continue?\n",
    "Ans: If you working inside any loop that time suppose you want to come out from loop you use break and if you want to skip next all lines of program inside loop you use continue that time you pointer go at starting of loop without exacuting remaing lines after continue\"\"\""
   ]
  },
  {
   "cell_type": "code",
   "execution_count": null,
   "id": "062007ac",
   "metadata": {},
   "outputs": [],
   "source": [
    "\"\"\"11. In a for loop, what is the difference between range(10), range(0, 10), and range(0, 10, 1)?\n",
    "Ans: range(10) mean you want to iterate list from [0,1,2,3,4,5,6,7,8,9] and range(0,10) also indicate you want to iterate from [0,1,2,3,4,5,6,7,8,9] but here this one 0 indicate starting value of list that mean if i give range(6,10) that mean i want to iterate from [6,7,8,9] third one also same that mean it also want to iterate [0,1,2,3,4,5,6,7,8,9] but last value indicate interval that mean if I give range(0,10,2) then it will skip first value and user second value [0,2,4,6,8]\"\"\""
   ]
  },
  {
   "cell_type": "code",
   "execution_count": null,
   "id": "7bff86b9",
   "metadata": {},
   "outputs": [],
   "source": [
    "\"\"\"12. Write a short program that prints the numbers 1 to 10 using a for loop. Then write an equivalent\n",
    "program that prints the numbers 1 to 10 using a while loop.\n",
    "Ans: Check next cell\"\"\""
   ]
  },
  {
   "cell_type": "code",
   "execution_count": 28,
   "id": "c1c4d4e8",
   "metadata": {},
   "outputs": [
    {
     "name": "stdout",
     "output_type": "stream",
     "text": [
      "1 2 3 4 5 6 7 8 9 10 \n",
      "1 2 3 4 5 6 7 8 9 10 "
     ]
    }
   ],
   "source": [
    "# 1) print numbers 1 to 10 user for loop\n",
    "for i in range(1,11):\n",
    "    print(i,end=\" \")\n",
    "print(\"\") \n",
    "# 2) print numbers 1 to 10 user  while loop\n",
    "i = 1\n",
    "while i < 11 :\n",
    "    print(i,end=\" \")\n",
    "    i += 1"
   ]
  },
  {
   "cell_type": "code",
   "execution_count": null,
   "id": "f95761eb",
   "metadata": {},
   "outputs": [],
   "source": [
    "\"\"\"13. If you had a function named bacon() inside a module named spam, how would you call it after\n",
    "importing spam?\n",
    "Ans: To call this we use spam.bacon()\"\"\""
   ]
  },
  {
   "cell_type": "code",
   "execution_count": null,
   "id": "bc21a9f0",
   "metadata": {},
   "outputs": [],
   "source": []
  }
 ],
 "metadata": {
  "kernelspec": {
   "display_name": "Python 3",
   "language": "python",
   "name": "python3"
  },
  "language_info": {
   "codemirror_mode": {
    "name": "ipython",
    "version": 3
   },
   "file_extension": ".py",
   "mimetype": "text/x-python",
   "name": "python",
   "nbconvert_exporter": "python",
   "pygments_lexer": "ipython3",
   "version": "3.6.9"
  }
 },
 "nbformat": 4,
 "nbformat_minor": 5
}
